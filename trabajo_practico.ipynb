{
  "nbformat": 4,
  "nbformat_minor": 0,
  "metadata": {
    "colab": {
      "provenance": [],
      "include_colab_link": true
    },
    "kernelspec": {
      "name": "python3",
      "display_name": "Python 3"
    }
  },
  "cells": [
    {
      "cell_type": "markdown",
      "metadata": {
        "id": "view-in-github",
        "colab_type": "text"
      },
      "source": [
        "<a href=\"https://colab.research.google.com/github/victory06/03MIAR---Algoritmos-de-Optimizacion/blob/main/trabajo_practico.ipynb\" target=\"_parent\"><img src=\"https://colab.research.google.com/assets/colab-badge.svg\" alt=\"Open In Colab\"/></a>"
      ]
    },
    {
      "cell_type": "markdown",
      "metadata": {
        "id": "hVbXYX-RfPWh"
      },
      "source": [
        "# Algoritmos de optimización - Seminario<br>\n",
        "Nombre : Víctor Manuel Arroyo Martín\n",
        "\n",
        "Enlace : https://colab.research.google.com/drive/1y9CJcrDQUZt97Jq47e6BxN9mf3UOhBFE?usp=sharing\n",
        "\n",
        "Github : https://github.com/victory06/03MIAR---Algoritmos-de-Optimizacion\n",
        "\n",
        "Problema:\n",
        ">3. Combinar cifras y operaciones\n",
        "\n",
        "Descripción del problema:\n",
        "\n",
        "El problema consiste en analizar el siguiente problema y diseñar un algoritmo que lo resuelva.\n",
        ">Disponemos de las 9 cifras del 1 al 9 (excluimos el cero) y de los 4 signos básicos de las \n",
        "operaciones fundamentales: suma(+), resta(-), multiplicación(\\*) y división(/).\n",
        "\n",
        ">Debemos combinarlos alternativamente sin repetir ninguno de ellos para obtener una cantidad \n",
        "dada. Un ejemplo sería para obtener el 4:\n",
        "4+2-6/3*1 = 4\n",
        "\n",
        ">Debe analizarse el problema para encontrar todos los valores enteros posibles planteando las \n",
        "siguientes cuestiones:\n",
        "- ¿Qué valor máximo y mínimo se pueden obtener según las condiciones del problema?\n",
        "- ¿Es posible encontrar todos los valores enteros posibles entre dicho mínimo y máximo ?\n",
        "\n",
        ">Nota: Es posible usar la función de python “eval” para evaluar una expresión\n",
        "\n",
        "\n",
        "....\n",
        "\n",
        "(*) La respuesta es obligatoria\n",
        "\n",
        "\n",
        "\n",
        "\n",
        "\n",
        "                                        "
      ]
    },
    {
      "cell_type": "markdown",
      "source": [
        "- **¿Qué valor máximo y mínimo se pueden obtener según las condiciones del problema?**\n",
        "- **¿Es posible encontrar todos los valores enteros posibles entre dicho mínimo y máximo ?**"
      ],
      "metadata": {
        "id": "eTIri9DJdA7K"
      }
    },
    {
      "cell_type": "markdown",
      "source": [
        "Se va a comprobar a través de fuerza bruta cuál es el máximo y el mínimo que se puede obtener de la combinación según las condiciones del problema y comprobar si se encuentran todos los números entre ese máximo y ese mínimo.\n",
        "\n",
        "Para ello se va a crear una función que por fuerza bruta recopile todos los resultados de evaluar todas las combinaciones posibles de operadores y números siguiendo las restricciones del problema. "
      ],
      "metadata": {
        "id": "IbIgYpEEUkrU"
      }
    },
    {
      "cell_type": "code",
      "source": [
        "import math as m"
      ],
      "metadata": {
        "id": "EfuO0dNKB_vk"
      },
      "execution_count": 25,
      "outputs": []
    },
    {
      "cell_type": "code",
      "source": [
        "## Calcula todas las posibles variaciones sin repetición de una lista dada (lst) tomando cierto número de elementos (size).\n",
        "def variaciones(lst, size):\n",
        "    if size == 0:\n",
        "        return [[]]\n",
        "    if len(lst) == 0:\n",
        "        return []\n",
        "    if len(lst) < size:\n",
        "        return []\n",
        "    if size == 1:\n",
        "        return [[i] for i in lst]\n",
        "    result = []\n",
        "    for i in range(len(lst)):\n",
        "        rem_list = lst[:i] + lst[i+1:]\n",
        "        for p in variaciones(rem_list, size-1):\n",
        "            result.append([lst[i]] + p)\n",
        "    return result"
      ],
      "metadata": {
        "id": "ZKLnqUbRUSfb"
      },
      "execution_count": 26,
      "outputs": []
    },
    {
      "cell_type": "code",
      "source": [
        "def soluciones_posibles():\n",
        "  op =  ['*','-','+','/']\n",
        "  list_op = variaciones(op, 4) ## Se toman los operadores de 4 en 4\n",
        "  lst =  ['1','2','3','4','5','6','7','8','9']\n",
        "  list_num = variaciones(lst, 5) ## Los números se toman de 5 en 5\n",
        "  list_posibles = []\n",
        "\n",
        "  ## Se calcula todas las combinaciones de operadores y números sin repetir\n",
        "  for nums in list_num:\n",
        "    for ops in list_op:\n",
        "      ## Para no repetir, se colocan en orden para la evaluación\n",
        "      sol = nums[0]+ops[0]+nums[1]+ops[1]+nums[2]+ops[2]+nums[3]+ops[3]+nums[4]\n",
        "      evaluacion = eval(sol)\n",
        "      ## Si no está ya en la lista como posible número que se puede formar\n",
        "      ## y es un número entero, se añade a la lista de números posibles\n",
        "      if evaluacion not in list_posibles and evaluacion-int(evaluacion)==0:\n",
        "        list_posibles.append(evaluacion)\n",
        "\n",
        "  return sorted(list_posibles)"
      ],
      "metadata": {
        "id": "j3I2XgpxUWqA"
      },
      "execution_count": 27,
      "outputs": []
    },
    {
      "cell_type": "code",
      "source": [
        "## Se obtiene la lista de números que se pueden formar y obtenemos su máximo y su mínimo\n",
        "list_posibles = soluciones_posibles()"
      ],
      "metadata": {
        "id": "LtfPe5fNUyza"
      },
      "execution_count": 28,
      "outputs": []
    },
    {
      "cell_type": "code",
      "source": [
        "max(list_posibles)"
      ],
      "metadata": {
        "colab": {
          "base_uri": "https://localhost:8080/"
        },
        "id": "TL7dpRmUU7_r",
        "outputId": "89c00408-0001-4ecc-8bfa-2473ad53be10"
      },
      "execution_count": 29,
      "outputs": [
        {
          "output_type": "execute_result",
          "data": {
            "text/plain": [
              "77.0"
            ]
          },
          "metadata": {},
          "execution_count": 29
        }
      ]
    },
    {
      "cell_type": "code",
      "source": [
        "min(list_posibles)"
      ],
      "metadata": {
        "colab": {
          "base_uri": "https://localhost:8080/"
        },
        "id": "KkhhYAMDU_-n",
        "outputId": "3e7b31fb-d672-442b-f9c1-6b582e759ded"
      },
      "execution_count": 30,
      "outputs": [
        {
          "output_type": "execute_result",
          "data": {
            "text/plain": [
              "-69.0"
            ]
          },
          "metadata": {},
          "execution_count": 30
        }
      ]
    },
    {
      "cell_type": "code",
      "source": [
        "## Se comprueba ahora que no hay nungún número que no se pueda formar entre el \n",
        "## máximo y el mínimo. Se puede verificar así que se pueden formar todos.\n",
        "for i in range(int(min(list_posibles))+1,int(max(list_posibles))):\n",
        "  if i not in list_posibles:\n",
        "    print(f'El número {i} no es posible formarlo.')\n"
      ],
      "metadata": {
        "id": "sU1qKIlKVBov"
      },
      "execution_count": 31,
      "outputs": []
    },
    {
      "cell_type": "markdown",
      "source": [
        "Es posible por tanto crear todos los números entre el máximo y el mínimo"
      ],
      "metadata": {
        "id": "oOYWpaMyVeAZ"
      }
    },
    {
      "cell_type": "markdown",
      "metadata": {
        "id": "3_-exlrTgLd-"
      },
      "source": [
        "**(*)¿Cuantas posibilidades hay sin tener en cuenta las restricciones?**<br>\n",
        "\n",
        "\n",
        "\n",
        "**¿Cuantas posibilidades hay teniendo en cuenta todas las restricciones.**\n",
        "\n",
        "\n"
      ]
    },
    {
      "cell_type": "markdown",
      "source": [
        "En este caso se ha entendido que sin restricciones se refiere a que se pueden repetir tanto operaciones como números, pero debe mantenerse la lógica de intercalar operación y número para que tenga sentido la evaluación de la expresión."
      ],
      "metadata": {
        "id": "i4a5fPq1CK8y"
      }
    },
    {
      "cell_type": "markdown",
      "source": [
        "En caso de que no haya restricciones, se pueden tomar de la lista de elementos de 5 en 5 o de 4 en 4 (números u operaciones) pudiendo tomar cada elemento más de una vez. Esto es conocido como variaciones con repetición y su fórmula es:\n",
        "$VR^{n}_{m}=m^{n}$, donde m es el tamaño de la lista de donde se toman los elementos y n el número de elementos que se toman.\n",
        "\n",
        "Así, para los números se tomarán 5 de ellos de una lista de 9 posibles y para los operadores, se toman de 4 en 4 de una lista de 4 elementos."
      ],
      "metadata": {
        "id": "ecL0IAIgaWEI"
      }
    },
    {
      "cell_type": "code",
      "metadata": {
        "id": "iq6Fe32MgpDX",
        "colab": {
          "base_uri": "https://localhost:8080/"
        },
        "outputId": "15a90fab-24ef-4e5f-98f2-eb0d49368889"
      },
      "source": [
        "#explciar variaciones con repetición\n",
        "(9**5) * (4**4) "
      ],
      "execution_count": 32,
      "outputs": [
        {
          "output_type": "execute_result",
          "data": {
            "text/plain": [
              "15116544"
            ]
          },
          "metadata": {},
          "execution_count": 32
        }
      ]
    },
    {
      "cell_type": "markdown",
      "source": [
        "Con restricciones, la explicación es la misma para el caso de los números salvo que esta vez no se pueden tomar elementos repetidos, por lo que esta vez son variaciones sin repetición, que tienen la siquiente forma: $V^{n}_{m}=\\frac{m!}{(m-n)!}$\n",
        "\n",
        "En cambio para el caso de los operadores cambia, pues ahora es sólo aplicar todas las reordenaciones posibles de la lista de operadores, consiguiendo así que no se repitan. Esto es, se calculan las permutaciones posibles, que tienen fórmula: $P_{n}={n!}$\n",
        "\n",
        "Se calcula a continuación las posibilidades teniendo en cuenta las restricciones:"
      ],
      "metadata": {
        "id": "GSY3ynRFDqJs"
      }
    },
    {
      "cell_type": "code",
      "source": [
        "(m.factorial(9)/m.factorial(9-5)) * (m.factorial(4))"
      ],
      "metadata": {
        "colab": {
          "base_uri": "https://localhost:8080/"
        },
        "id": "CAp_L022Dsmu",
        "outputId": "30e5fec7-f911-4a52-953d-68297b61286b"
      },
      "execution_count": 33,
      "outputs": [
        {
          "output_type": "execute_result",
          "data": {
            "text/plain": [
              "362880.0"
            ]
          },
          "metadata": {},
          "execution_count": 33
        }
      ]
    },
    {
      "cell_type": "markdown",
      "metadata": {
        "id": "dzynfVJahHoY"
      },
      "source": [
        "**Modelo para el espacio de soluciones**<br>\n",
        "**(*) ¿Cual es la estructura de datos que mejor se adapta al problema? Argumentalo.(Es posible que hayas elegido una al principio y veas la necesidad de cambiar, arguentalo)**\n"
      ]
    },
    {
      "cell_type": "markdown",
      "source": [
        "Se ha elegido una cadena de caracteres ya que en cada iteración lo que se hace es añadir un número y una operación al final. Además, se evalúan con la función $eval$, que tiene como entrada una cadena de caracteres."
      ],
      "metadata": {
        "id": "xqfilT_rdJWs"
      }
    },
    {
      "cell_type": "markdown",
      "metadata": {
        "id": "7Z9U2W7bi-XS"
      },
      "source": [
        "**Según el modelo para el espacio de soluciones**<br>\n",
        "**(*)¿Cual es la función objetivo?**\n",
        "\n",
        "**(*)¿Es un problema de maximización o minimización?**"
      ]
    },
    {
      "cell_type": "markdown",
      "source": [
        "Este problema lo que trata es de encontrar una solución en un espacio dado. No hay una función objetivo o de coste concreta que optimizar. Por eso, es un algoritmo de búsqueda: se busca la combinación de operaciones y números dadas las restricciones del problema que den como solución el número a calcular."
      ],
      "metadata": {
        "id": "KGmWeAUTElCy"
      }
    },
    {
      "cell_type": "markdown",
      "metadata": {
        "id": "rlnTYgY1j6I2"
      },
      "source": [
        "**Diseña un algoritmo para resolver el problema por fuerza bruta**"
      ]
    },
    {
      "cell_type": "markdown",
      "metadata": {
        "id": "70rDgxYXkC8r"
      },
      "source": [
        "El algoritmo de fuerza bruta se diseña igual que se explicaba al principio, tomando todas las posibilades en cuenta y evaluando hasta que dé como resultado el número que se busca."
      ]
    },
    {
      "cell_type": "code",
      "source": [
        "def evaluaciones_FB(num):\n",
        "  op =  ['*','-','+','/']\n",
        "  list_op = variaciones(op, 4) ## Se toman los operadores de 4 en 4\n",
        "  lst =  ['1','2','3','4','5','6','7','8','9']\n",
        "  list_num = variaciones(lst, 5) ## Los números se toman de 5 en 5\n",
        "  \n",
        "   ## Se calcula todas las combinaciones de operadores y números sin repetir\n",
        "  for nums in list_num:\n",
        "    for ops in list_op:\n",
        "      ## Para no repetir, se colocan en orden para la evaluación\n",
        "      sol = nums[0]+ops[0]+nums[1]+ops[1]+nums[2]+ops[2]+nums[3]+ops[3]+nums[4]\n",
        "      evaluacion = eval(sol)\n",
        "      ## Cuando se encuentre una expresión que dé como resultado el número,\n",
        "      ## se devuelve y el programa se detiene\n",
        "      if evaluacion == num:\n",
        "        return sol\n",
        "\n",
        "  return 'No se ha encontrado el número buscado'\n"
      ],
      "metadata": {
        "id": "OZmtgo1YPK-a"
      },
      "execution_count": 34,
      "outputs": []
    },
    {
      "cell_type": "code",
      "source": [
        "evaluaciones_FB(23)"
      ],
      "metadata": {
        "colab": {
          "base_uri": "https://localhost:8080/",
          "height": 35
        },
        "id": "jLE6nELARXzO",
        "outputId": "81a7b423-e8be-4ff1-bc8e-70e6d2659d39"
      },
      "execution_count": 35,
      "outputs": [
        {
          "output_type": "execute_result",
          "data": {
            "text/plain": [
              "'1-2+8/3*9'"
            ],
            "application/vnd.google.colaboratory.intrinsic+json": {
              "type": "string"
            }
          },
          "metadata": {},
          "execution_count": 35
        }
      ]
    },
    {
      "cell_type": "markdown",
      "metadata": {
        "id": "tgrnsC2nkFa8"
      },
      "source": [
        "**Calcula la complejidad del algoritmo por fuerza bruta**"
      ]
    },
    {
      "cell_type": "markdown",
      "source": [
        "En este algoritmo se calculan todas las variaciones sin repetición de los 9 posibles números que tiene una complejidad de $O(\\frac{n\\_numero!}{(n\\_numero-n\\_seleccion)!})$ donde ${n\\_numero}$ es el número de posibles números a elegir (9 en este caso) y ${n\\_seleccion}$ el número de números que se seleccionan de la lista (5 en este caso), y se calculan las permutaciones de la lista de operadores sin repetir, que es $O(n\\_operadores!)$.\n",
        "\n",
        "Como se recorren ambas listas en un bucle, su complejidad se multiplica quedando de esta forma $O(\\frac{n\\_numero!}{(n\\_numero-n\\_seleccion)!} * n\\_operadores!)$.\n",
        "\n",
        "Por tanto, la complejidad es $O(n!)$."
      ],
      "metadata": {
        "id": "1egagSkpRxfb"
      }
    },
    {
      "cell_type": "markdown",
      "metadata": {
        "id": "txbrmLmskReM"
      },
      "source": [
        "**(*)Diseña un algoritmo que mejore la complejidad del algortimo por fuerza bruta. Argumenta porque crees que mejora el algoritmo por fuerza bruta**"
      ]
    },
    {
      "cell_type": "markdown",
      "metadata": {
        "id": "hLrVwt5QkZPD"
      },
      "source": [
        "Se ha creado un algoritmo heurístico con el que se exploran unos casos antes que otros para llegar más rápido a la solución que con simple fuerza bruta.\n",
        "\n",
        "El algoritmo se basa en una cola con prioridad, que está ordenada según la distancia que la expresión lleva por el momento a la solución que se busca. De esta forma, se escoge antes desarrollar una solución cercana ya que tiene altas probabilidades de que añadiendo un número peuqeño a la expresión, dé el resultado buscado.\n",
        "\n",
        "Este algoritmo es mejor por esta prioridad o heurística: las probabilidades juegan a favor y se explora menos el espacio en busca de la solución. En el peor de los casos, explorará todo el espacio hasta dar con la solución, igualando la eficiencia del algoritmo de fuerza bruta, pero en general esto no pasará."
      ]
    },
    {
      "cell_type": "code",
      "source": [
        "from queue import PriorityQueue\n",
        "import queue"
      ],
      "metadata": {
        "id": "NHuJFlZLbFGQ"
      },
      "execution_count": 36,
      "outputs": []
    },
    {
      "cell_type": "code",
      "source": [
        "def crear_hijos(nodo, ops, nums):\n",
        "  HIJOS=[]\n",
        "  ## Se diferencia entre si toca sumar un número a la cadena de caracteres o un\n",
        "  ## operador según si la cadena hasta el momento tiene longitud par o impar.\n",
        "  if len(nodo)%2!=0:\n",
        "    for op in ops:\n",
        "      if op not in nodo:\n",
        "        HIJOS.append(nodo+op)\n",
        "  else:\n",
        "    for num in range(1,nums+1):\n",
        "      if str(num) not in nodo:\n",
        "        HIJOS.append(nodo+str(num))\n",
        "  return HIJOS"
      ],
      "metadata": {
        "id": "tDmMwAgmbXsy"
      },
      "execution_count": 37,
      "outputs": []
    },
    {
      "cell_type": "code",
      "metadata": {
        "id": "m1eyM21Vkabg"
      },
      "source": [
        "def evaluaciones_Priority(num):\n",
        "  ## Hay que recorrer todas las permutaciones del conjunto {0,...,len(costes)}\n",
        "  nodoInicial = ''\n",
        "  DIM = 9\n",
        "  NUMS = 9\n",
        "  ops = ['*','-','+','/']\n",
        "  NODOS = queue.PriorityQueue()\n",
        "  NODOS.put((0,nodoInicial))\n",
        "  iteracion = 0\n",
        "  while(not NODOS.empty()):\n",
        "    nodo_prom = NODOS.get()\n",
        "    hijos = crear_hijos(nodo_prom[1], ops, NUMS)\n",
        "    for x in hijos:\n",
        "      iteracion += 1\n",
        "      if(len(x)%2!=0):\n",
        "        ## Si termina en un número (es decir, la longitud es par), se puede\n",
        "        ## evaluar directamente la expresión\n",
        "        c_hijo = eval(x)\n",
        "        ## Se comprueba si el resultado es float o int, para dar prioridad\n",
        "        ## al int pues es más probable que llegue antes a la solución\n",
        "        if c_hijo - int(c_hijo) == 0.0:\n",
        "          NODOS.put((abs(num-c_hijo),x))\n",
        "        else:\n",
        "          NODOS.put((m.inf,x))\n",
        "        ## Se comprueba si es solución y si lo es, acaba el algoritmo\n",
        "        if len(x)==DIM and c_hijo==num:\n",
        "          return x          \n",
        "      else:\n",
        "        ## Si es impar la longitud de la expresión, quiere decir que termina en\n",
        "        ## un operador, por lo que se evalúa quitando el operador del final\n",
        "        c_hijo = eval(x[:len(x)-1])\n",
        "        ## Se comprueba si el resultado es float o int, para dar prioridad\n",
        "        ## al int pues es más probable que llegue antes a la solución\n",
        "        if c_hijo - int(c_hijo) == 0.0:\n",
        "          NODOS.put((abs(num-c_hijo),x))\n",
        "        else:\n",
        "          NODOS.put((m.inf,x))\n",
        "  \n",
        "  return 'No se encuentra'"
      ],
      "execution_count": 38,
      "outputs": []
    },
    {
      "cell_type": "markdown",
      "source": [
        "Ambas soluciones son correctas:"
      ],
      "metadata": {
        "id": "nqjXyk1c_0hQ"
      }
    },
    {
      "cell_type": "code",
      "source": [
        "evaluaciones_Priority(35)"
      ],
      "metadata": {
        "colab": {
          "base_uri": "https://localhost:8080/",
          "height": 35
        },
        "id": "KoFS4KUL_meI",
        "outputId": "43836dbb-cdb1-43aa-b152-831a7a415cda"
      },
      "execution_count": 39,
      "outputs": [
        {
          "output_type": "execute_result",
          "data": {
            "text/plain": [
              "'9*4-3+2/1'"
            ],
            "application/vnd.google.colaboratory.intrinsic+json": {
              "type": "string"
            }
          },
          "metadata": {},
          "execution_count": 39
        }
      ]
    },
    {
      "cell_type": "code",
      "source": [
        "evaluaciones_FB(35)"
      ],
      "metadata": {
        "colab": {
          "base_uri": "https://localhost:8080/",
          "height": 35
        },
        "id": "2X4P3Q6P_mia",
        "outputId": "9413a720-98f9-422b-e04d-d1bc19b218e2"
      },
      "execution_count": 40,
      "outputs": [
        {
          "output_type": "execute_result",
          "data": {
            "text/plain": [
              "'1+4*9-6/3'"
            ],
            "application/vnd.google.colaboratory.intrinsic+json": {
              "type": "string"
            }
          },
          "metadata": {},
          "execution_count": 40
        }
      ]
    },
    {
      "cell_type": "markdown",
      "source": [
        "Comprobación de que en tiempo el algoritmo con la heurística es más eficiente que el de fuerza bruta:"
      ],
      "metadata": {
        "id": "h4y8qFK1_4QJ"
      }
    },
    {
      "cell_type": "code",
      "source": [
        "import time"
      ],
      "metadata": {
        "id": "wA72rpY2iBzH"
      },
      "execution_count": 41,
      "outputs": []
    },
    {
      "cell_type": "code",
      "source": [
        "start = time.time()\n",
        "evaluaciones_Priority(35)\n",
        "end = time.time()\n",
        "print(end-start)"
      ],
      "metadata": {
        "colab": {
          "base_uri": "https://localhost:8080/"
        },
        "id": "0jt-PxM5fvyg",
        "outputId": "b518e10b-3b2d-4e3a-9d45-3dc6be901b62"
      },
      "execution_count": 42,
      "outputs": [
        {
          "output_type": "stream",
          "name": "stdout",
          "text": [
            "0.0025162696838378906\n"
          ]
        }
      ]
    },
    {
      "cell_type": "code",
      "source": [
        "start = time.time()\n",
        "evaluaciones_FB(35)\n",
        "end = time.time()\n",
        "print(end-start)"
      ],
      "metadata": {
        "colab": {
          "base_uri": "https://localhost:8080/"
        },
        "id": "5P9T80bNhy3B",
        "outputId": "8ed62c38-9b9b-465c-c807-e94a24cfb26b"
      },
      "execution_count": 43,
      "outputs": [
        {
          "output_type": "stream",
          "name": "stdout",
          "text": [
            "0.15996193885803223\n"
          ]
        }
      ]
    },
    {
      "cell_type": "markdown",
      "metadata": {
        "id": "eGDB4K6uk1iN"
      },
      "source": [
        "**(*)Calcula la complejidad del algoritmo**"
      ]
    },
    {
      "cell_type": "markdown",
      "source": [
        "Como se ha dicho antes, en el peor de los casos la eficiencia de este algoritmo es el mismo que el de fuerza bruta. Sin embargo, en la gran mayoría de casos, por ser heurístico y explorar de forma inteligente, se ahorra una gran cantidad de operaciones y suele ser más eficiente que el de fuerza bruta."
      ],
      "metadata": {
        "id": "DTTIUKQ_T-eo"
      }
    },
    {
      "cell_type": "markdown",
      "metadata": {
        "id": "3M6QjTsSkmYe"
      },
      "source": [
        "**Según el problema (y tenga sentido), diseña un juego de datos de entrada aleatorios**"
      ]
    },
    {
      "cell_type": "markdown",
      "metadata": {
        "id": "Jc3_OlyNkvjZ"
      },
      "source": [
        "En este caso tiene sentido hacer una lista con números elegidos al azar entre el máximo y el mínimo posibles y evaluar la función en esos números."
      ]
    },
    {
      "cell_type": "code",
      "metadata": {
        "id": "sJ-N2etjkyWc"
      },
      "source": [
        "import random"
      ],
      "execution_count": 48,
      "outputs": []
    },
    {
      "cell_type": "code",
      "source": [
        "nums = [random.randint(min(list_posibles),max(list_posibles)) for i in range(10)]"
      ],
      "metadata": {
        "id": "I14E4BwUUB0S"
      },
      "execution_count": 53,
      "outputs": []
    },
    {
      "cell_type": "code",
      "source": [
        "nums"
      ],
      "metadata": {
        "colab": {
          "base_uri": "https://localhost:8080/"
        },
        "id": "pj4_pNgQUDNB",
        "outputId": "18ce74e1-1344-4e7f-ad3e-f21056353787"
      },
      "execution_count": 54,
      "outputs": [
        {
          "output_type": "execute_result",
          "data": {
            "text/plain": [
              "[31, 20, -31, 62, 61, 5, -43, -56, 10, -63]"
            ]
          },
          "metadata": {},
          "execution_count": 54
        }
      ]
    },
    {
      "cell_type": "markdown",
      "metadata": {
        "id": "zy5ZROmjlGo1"
      },
      "source": [
        "**Aplica el algoritmo al juego de datos generado**"
      ]
    },
    {
      "cell_type": "markdown",
      "metadata": {
        "id": "_Cmj-PVylMsa"
      },
      "source": [
        "Respuesta"
      ]
    },
    {
      "cell_type": "code",
      "metadata": {
        "id": "Jkx8GeiYlUz1",
        "colab": {
          "base_uri": "https://localhost:8080/"
        },
        "outputId": "6ef26a88-0d68-4eaf-a1b8-2f3c605d647b"
      },
      "source": [
        "for i in nums:\n",
        "  start = time.time()\n",
        "  expr = evaluaciones_Priority(i)\n",
        "  end = time.time()\n",
        "  print(expr + f' = {i} en un tiempo {end-start}s')"
      ],
      "execution_count": 55,
      "outputs": [
        {
          "output_type": "stream",
          "name": "stdout",
          "text": [
            "9*3+6-2/1 = 31 en un tiempo 0.002840757369995117s\n",
            "9*2+5-3/1 = 20 en un tiempo 0.0051805973052978516s\n",
            "1-9*4+8/2 = -31 en un tiempo 0.0018720626831054688s\n",
            "9*7+1-4/2 = 62 en un tiempo 0.0026938915252685547s\n",
            "9*7-4+2/1 = 61 en un tiempo 0.001886606216430664s\n",
            "6*1-3+4/2 = 5 en un tiempo 0.025083303451538086s\n",
            "2-8*6+3/1 = -43 en un tiempo 0.0827019214630127s\n",
            "2-9*7+5/1 = -56 en un tiempo 0.06681156158447266s\n",
            "9*1+3-4/2 = 10 en un tiempo 0.011644124984741211s\n",
            "2-9*8+7/1 = -63 en un tiempo 0.0674586296081543s\n"
          ]
        }
      ]
    },
    {
      "cell_type": "markdown",
      "metadata": {
        "id": "eTFWUJQrtGcv"
      },
      "source": [
        "**Enumera las referencias que has utilizado(si ha sido necesario) para llevar a cabo el trabajo**"
      ]
    },
    {
      "cell_type": "markdown",
      "metadata": {
        "id": "YKQ_mRBttWsP"
      },
      "source": [
        "No aplica."
      ]
    },
    {
      "cell_type": "markdown",
      "metadata": {
        "id": "kAkDPUyRtYyH"
      },
      "source": [
        "**Describe brevemente las lineas de como crees que es posible avanzar en el estudio del problema. Ten en cuenta incluso posibles variaciones del problema y/o variaciones al alza del tamaño**"
      ]
    },
    {
      "cell_type": "markdown",
      "source": [
        "Las variaciones al alza del tamaño de este problema son sencillas: sólo habría que aumentar el número de operadores posibles que se pueden usar y aumentar el número de cifras posibles.\n",
        "\n",
        "Por otro lado, para aumentar la complejidad y las posibilades de las expresiones, se pueden añadir paréntesis haciendo las expresiones más complejas. También, en vez de solo permitir soluciones enteras, podrían permitirse soluciones racionales o reales."
      ],
      "metadata": {
        "id": "e_lIWzoYEe2u"
      }
    }
  ]
}