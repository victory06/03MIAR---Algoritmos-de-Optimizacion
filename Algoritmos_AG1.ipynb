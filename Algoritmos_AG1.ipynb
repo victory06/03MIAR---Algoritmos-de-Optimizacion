{
  "nbformat": 4,
  "nbformat_minor": 0,
  "metadata": {
    "colab": {
      "provenance": [],
      "include_colab_link": true
    },
    "kernelspec": {
      "name": "python3",
      "display_name": "Python 3"
    },
    "language_info": {
      "name": "python"
    }
  },
  "cells": [
    {
      "cell_type": "markdown",
      "metadata": {
        "id": "view-in-github",
        "colab_type": "text"
      },
      "source": [
        "<a href=\"https://colab.research.google.com/github/victory06/03MIAR---Algoritmos-de-Optimizacion/blob/main/Algoritmos_AG1.ipynb\" target=\"_parent\"><img src=\"https://colab.research.google.com/assets/colab-badge.svg\" alt=\"Open In Colab\"/></a>"
      ]
    },
    {
      "cell_type": "markdown",
      "metadata": {
        "id": "GG2D6vLdYwwy"
      },
      "source": [
        "## Actividad Guiada 1 de Algoritmos de Optimizacion\n",
        "\n",
        "Nombre: Víctor Manuel Arroyo Martín\n",
        "\n",
        "https://colab.research.google.com/drive/1soTrNmplUaIx9IjCdxIrT2Ovs2M3VEXw?usp=sharing\n",
        "\n",
        "https://github.com/victory06/03MIAR---Algoritmos-de-Optimizacion"
      ]
    },
    {
      "cell_type": "markdown",
      "source": [
        "## Torres de Hanoi con Divide y Vencerás"
      ],
      "metadata": {
        "id": "xVisfNC6zpAp"
      }
    },
    {
      "cell_type": "code",
      "metadata": {
        "id": "rTiqLuX2ZKuL",
        "outputId": "0bc60453-0671-4d5e-914d-852c51c68264",
        "colab": {
          "base_uri": "https://localhost:8080/"
        }
      },
      "source": [
        "#Torres de Hanoi\n",
        "def Torres_Hanoi(N, desde, hasta):\n",
        "  #N - Nº de fichas\n",
        "  #desde - torre inicial\n",
        "  #hasta - torre fina\n",
        "  if N==1 :\n",
        "    print(\"Lleva la ficha desde \" + str(desde) + \" hasta \" + str(hasta))\n",
        "\n",
        "  else:\n",
        "    Torres_Hanoi(N-1, desde, 6-desde-hasta)\n",
        "    print(\"Lleva la ficha desde \" + str(desde) + \" hasta \" + str(hasta))\n",
        "    Torres_Hanoi(N-1, 6-desde-hasta,  hasta)\n",
        "\n",
        "Torres_Hanoi(4, 1, 3)"
      ],
      "execution_count": null,
      "outputs": [
        {
          "output_type": "stream",
          "name": "stdout",
          "text": [
            "Lleva la ficha desde 1 hasta 2\n",
            "Lleva la ficha desde 1 hasta 3\n",
            "Lleva la ficha desde 2 hasta 3\n",
            "Lleva la ficha desde 1 hasta 2\n",
            "Lleva la ficha desde 3 hasta 1\n",
            "Lleva la ficha desde 3 hasta 2\n",
            "Lleva la ficha desde 1 hasta 2\n",
            "Lleva la ficha desde 1 hasta 3\n",
            "Lleva la ficha desde 2 hasta 3\n",
            "Lleva la ficha desde 2 hasta 1\n",
            "Lleva la ficha desde 3 hasta 1\n",
            "Lleva la ficha desde 2 hasta 3\n",
            "Lleva la ficha desde 1 hasta 2\n",
            "Lleva la ficha desde 1 hasta 3\n",
            "Lleva la ficha desde 2 hasta 3\n"
          ]
        }
      ]
    },
    {
      "cell_type": "markdown",
      "source": [
        "## Cambio de monedas con técnica voraz"
      ],
      "metadata": {
        "id": "OFDJdXz6zwHS"
      }
    },
    {
      "cell_type": "code",
      "metadata": {
        "id": "YwBudj2hYoMR",
        "colab": {
          "base_uri": "https://localhost:8080/"
        },
        "outputId": "f6856e9d-b01a-4f1e-dd01-e0f1f662afaf"
      },
      "source": [
        "#Cambio de monedas - Técnica voraz\n",
        "################################################################################\n",
        "SISTEMA = [12, 5 ,2, 1  ]\n",
        "################################################################\n",
        "def cambio_monedas(CANTIDAD,SISTEMA):\n",
        "  print(\"SISTEMA:\")\n",
        "  print(SISTEMA)\n",
        "  \n",
        "  SOLUCION = [0]*len(SISTEMA)\n",
        "  ValorAcumulado = 0\n",
        "\n",
        "  for i,valor in enumerate(SISTEMA):\n",
        "    monedas = (CANTIDAD-ValorAcumulado)//valor\n",
        "    SOLUCION[i] = monedas\n",
        "    ValorAcumulado = ValorAcumulado + monedas*valor\n",
        "\n",
        "    if CANTIDAD == ValorAcumulado:\n",
        "      return SOLUCION\n",
        "\n",
        "  print(\"No es posible encontrar solucion\") \n",
        "cambio_monedas(15,SISTEMA)\n"
      ],
      "execution_count": null,
      "outputs": [
        {
          "output_type": "stream",
          "name": "stdout",
          "text": [
            "SISTEMA:\n",
            "[12, 5, 2, 1]\n"
          ]
        },
        {
          "output_type": "execute_result",
          "data": {
            "text/plain": [
              "[1, 0, 1, 1]"
            ]
          },
          "metadata": {},
          "execution_count": 5
        }
      ]
    },
    {
      "cell_type": "markdown",
      "source": [
        "## Problema de las N-Reinas con vuelta atrás"
      ],
      "metadata": {
        "id": "DyKKrneWz0vy"
      }
    },
    {
      "cell_type": "code",
      "metadata": {
        "id": "H4Iwt2XRZTFr",
        "colab": {
          "base_uri": "https://localhost:8080/"
        },
        "outputId": "fc22d52e-84d3-4c91-aa03-b2169f9889ed"
      },
      "source": [
        "#N Reinas - Vuelta Atrás()\n",
        "################################################################################\n",
        "\n",
        "#Verifica que en la solución parcial no hay amenzas entre reinas\n",
        "################################################################\n",
        "def es_prometedora(SOLUCION,etapa):\n",
        "################################################################\n",
        "  #print(SOLUCION)\n",
        "  #Si la solución tiene dos valores iguales no es valida => Dos reinas en la misma fila\n",
        "  for i in range(etapa+1):\n",
        "    #print(\"El valor \" + str(SOLUCION[i]) + \" está \" +  str(SOLUCION.count(SOLUCION[i])) + \" veces\")\n",
        "    if SOLUCION.count(SOLUCION[i]) > 1:       \n",
        "      return False\n",
        "  \n",
        "    #Verifica las diagonales\n",
        "    for j in range(i+1, etapa +1 ):\n",
        "      #print(\"Comprobando diagonal de \" + str(i) + \" y \" + str(j))\n",
        "      if abs(i-j) == abs(SOLUCION[i]-SOLUCION[j]) : return False\n",
        "  return True\n",
        "\n",
        "#Traduce la solución al tablero\n",
        "################################################################\n",
        "def escribe_solucion(S):\n",
        "################################################################\n",
        "  n = len(S)\n",
        "  for x in range(n):\n",
        "    print(\"\")\n",
        "    for i in range(n):\n",
        "      if S[i] == x+1:\n",
        "        print(\" X \" , end=\"\")\n",
        "      else:\n",
        "        print(\" - \", end=\"\")\n",
        "\n",
        "\n",
        "\n",
        "#Proceso principal de N-Reinas\n",
        "################################################################\n",
        "def reinas(N, solucion=[],etapa=0): \n",
        "################################################################\n",
        "### ....\n",
        "  if len(solucion) == 0:         # [0,0,0...]\n",
        "    solucion = [0 for i in range(N) ]\n",
        "  \n",
        "  for i in range(1, N+1):\n",
        "    solucion[etapa] = i\n",
        "    if es_prometedora(solucion, etapa):\n",
        "      if etapa == N-1:\n",
        "        print(solucion)\n",
        "      else:  \n",
        "        reinas(N, solucion, etapa+1)\n",
        "    else:\n",
        "      None\n",
        "  \n",
        "  solucion[etapa] = 0\n",
        "\n",
        "reinas(8,solucion=[],etapa=0)"
      ],
      "execution_count": null,
      "outputs": [
        {
          "output_type": "stream",
          "name": "stdout",
          "text": [
            "[1, 5, 8, 6, 3, 7, 2, 4]\n",
            "[1, 6, 8, 3, 7, 4, 2, 5]\n",
            "[1, 7, 4, 6, 8, 2, 5, 3]\n",
            "[1, 7, 5, 8, 2, 4, 6, 3]\n",
            "[2, 4, 6, 8, 3, 1, 7, 5]\n",
            "[2, 5, 7, 1, 3, 8, 6, 4]\n",
            "[2, 5, 7, 4, 1, 8, 6, 3]\n",
            "[2, 6, 1, 7, 4, 8, 3, 5]\n",
            "[2, 6, 8, 3, 1, 4, 7, 5]\n",
            "[2, 7, 3, 6, 8, 5, 1, 4]\n",
            "[2, 7, 5, 8, 1, 4, 6, 3]\n",
            "[2, 8, 6, 1, 3, 5, 7, 4]\n",
            "[3, 1, 7, 5, 8, 2, 4, 6]\n",
            "[3, 5, 2, 8, 1, 7, 4, 6]\n",
            "[3, 5, 2, 8, 6, 4, 7, 1]\n",
            "[3, 5, 7, 1, 4, 2, 8, 6]\n",
            "[3, 5, 8, 4, 1, 7, 2, 6]\n",
            "[3, 6, 2, 5, 8, 1, 7, 4]\n",
            "[3, 6, 2, 7, 1, 4, 8, 5]\n",
            "[3, 6, 2, 7, 5, 1, 8, 4]\n",
            "[3, 6, 4, 1, 8, 5, 7, 2]\n",
            "[3, 6, 4, 2, 8, 5, 7, 1]\n",
            "[3, 6, 8, 1, 4, 7, 5, 2]\n",
            "[3, 6, 8, 1, 5, 7, 2, 4]\n",
            "[3, 6, 8, 2, 4, 1, 7, 5]\n",
            "[3, 7, 2, 8, 5, 1, 4, 6]\n",
            "[3, 7, 2, 8, 6, 4, 1, 5]\n",
            "[3, 8, 4, 7, 1, 6, 2, 5]\n",
            "[4, 1, 5, 8, 2, 7, 3, 6]\n",
            "[4, 1, 5, 8, 6, 3, 7, 2]\n",
            "[4, 2, 5, 8, 6, 1, 3, 7]\n",
            "[4, 2, 7, 3, 6, 8, 1, 5]\n",
            "[4, 2, 7, 3, 6, 8, 5, 1]\n",
            "[4, 2, 7, 5, 1, 8, 6, 3]\n",
            "[4, 2, 8, 5, 7, 1, 3, 6]\n",
            "[4, 2, 8, 6, 1, 3, 5, 7]\n",
            "[4, 6, 1, 5, 2, 8, 3, 7]\n",
            "[4, 6, 8, 2, 7, 1, 3, 5]\n",
            "[4, 6, 8, 3, 1, 7, 5, 2]\n",
            "[4, 7, 1, 8, 5, 2, 6, 3]\n",
            "[4, 7, 3, 8, 2, 5, 1, 6]\n",
            "[4, 7, 5, 2, 6, 1, 3, 8]\n",
            "[4, 7, 5, 3, 1, 6, 8, 2]\n",
            "[4, 8, 1, 3, 6, 2, 7, 5]\n",
            "[4, 8, 1, 5, 7, 2, 6, 3]\n",
            "[4, 8, 5, 3, 1, 7, 2, 6]\n",
            "[5, 1, 4, 6, 8, 2, 7, 3]\n",
            "[5, 1, 8, 4, 2, 7, 3, 6]\n",
            "[5, 1, 8, 6, 3, 7, 2, 4]\n",
            "[5, 2, 4, 6, 8, 3, 1, 7]\n",
            "[5, 2, 4, 7, 3, 8, 6, 1]\n",
            "[5, 2, 6, 1, 7, 4, 8, 3]\n",
            "[5, 2, 8, 1, 4, 7, 3, 6]\n",
            "[5, 3, 1, 6, 8, 2, 4, 7]\n",
            "[5, 3, 1, 7, 2, 8, 6, 4]\n",
            "[5, 3, 8, 4, 7, 1, 6, 2]\n",
            "[5, 7, 1, 3, 8, 6, 4, 2]\n",
            "[5, 7, 1, 4, 2, 8, 6, 3]\n",
            "[5, 7, 2, 4, 8, 1, 3, 6]\n",
            "[5, 7, 2, 6, 3, 1, 4, 8]\n",
            "[5, 7, 2, 6, 3, 1, 8, 4]\n",
            "[5, 7, 4, 1, 3, 8, 6, 2]\n",
            "[5, 8, 4, 1, 3, 6, 2, 7]\n",
            "[5, 8, 4, 1, 7, 2, 6, 3]\n",
            "[6, 1, 5, 2, 8, 3, 7, 4]\n",
            "[6, 2, 7, 1, 3, 5, 8, 4]\n",
            "[6, 2, 7, 1, 4, 8, 5, 3]\n",
            "[6, 3, 1, 7, 5, 8, 2, 4]\n",
            "[6, 3, 1, 8, 4, 2, 7, 5]\n",
            "[6, 3, 1, 8, 5, 2, 4, 7]\n",
            "[6, 3, 5, 7, 1, 4, 2, 8]\n",
            "[6, 3, 5, 8, 1, 4, 2, 7]\n",
            "[6, 3, 7, 2, 4, 8, 1, 5]\n",
            "[6, 3, 7, 2, 8, 5, 1, 4]\n",
            "[6, 3, 7, 4, 1, 8, 2, 5]\n",
            "[6, 4, 1, 5, 8, 2, 7, 3]\n",
            "[6, 4, 2, 8, 5, 7, 1, 3]\n",
            "[6, 4, 7, 1, 3, 5, 2, 8]\n",
            "[6, 4, 7, 1, 8, 2, 5, 3]\n",
            "[6, 8, 2, 4, 1, 7, 5, 3]\n",
            "[7, 1, 3, 8, 6, 4, 2, 5]\n",
            "[7, 2, 4, 1, 8, 5, 3, 6]\n",
            "[7, 2, 6, 3, 1, 4, 8, 5]\n",
            "[7, 3, 1, 6, 8, 5, 2, 4]\n",
            "[7, 3, 8, 2, 5, 1, 6, 4]\n",
            "[7, 4, 2, 5, 8, 1, 3, 6]\n",
            "[7, 4, 2, 8, 6, 1, 3, 5]\n",
            "[7, 5, 3, 1, 6, 8, 2, 4]\n",
            "[8, 2, 4, 1, 7, 5, 3, 6]\n",
            "[8, 2, 5, 3, 1, 7, 4, 6]\n",
            "[8, 3, 1, 6, 2, 5, 7, 4]\n",
            "[8, 4, 1, 3, 6, 2, 7, 5]\n"
          ]
        }
      ]
    },
    {
      "cell_type": "code",
      "metadata": {
        "id": "eTZclKH9QV0R",
        "colab": {
          "base_uri": "https://localhost:8080/"
        },
        "outputId": "12fb56f5-881a-4acc-a52d-5ed260f813ed"
      },
      "source": [
        "escribe_solucion([1, 5, 8, 6, 3, 7, 2, 4])"
      ],
      "execution_count": null,
      "outputs": [
        {
          "output_type": "stream",
          "name": "stdout",
          "text": [
            "\n",
            " X  -  -  -  -  -  -  - \n",
            " -  -  -  -  -  -  X  - \n",
            " -  -  -  -  X  -  -  - \n",
            " -  -  -  -  -  -  -  X \n",
            " -  X  -  -  -  -  -  - \n",
            " -  -  -  X  -  -  -  - \n",
            " -  -  -  -  -  X  -  - \n",
            " -  -  X  -  -  -  -  - "
          ]
        }
      ]
    },
    {
      "cell_type": "markdown",
      "source": [
        "## Puntos más cercanos con Fuerza Bruta\n",
        "\n",
        "En un conjunto de puntos de 1 a 3 dimensiones, encontrar los dos más cercanos. Primero con fuerza bruta, que se basa en recorrerlos todos y quedarse con los dos de menor distancia.\n",
        "\n",
        "Se ha realizado el algoritmo para un número natural cualquiera dimensiones, así que es el mismo para 1, 2 y 3 dimensiones.\n",
        "\n",
        "Tiene una complejidad de $\\frac{n(n-1)}{2}$ debido a que el segundo bucle se puede recortar un poco en iteraciones, con lo que es $O(n^2)$."
      ],
      "metadata": {
        "id": "GZ2gkxlazcc4"
      }
    },
    {
      "cell_type": "code",
      "source": [
        "import random\n",
        "import math\n",
        "\n",
        "# LISTA_1D = [random.randrange(1,10000) for x in range(1000)]\n",
        "# LISTA_2D = [(random.randrange(1,10000),random.randrange(1,10000)) for x in range(1000)]\n",
        "# LISTA_3D = [(random.randrange(1,10000),random.randrange(1,10000),random.randrange(1,10000)) for x in range(1000)]\n",
        "\n",
        "LISTA_1D = [[random.randrange(1,10000)] for x in range(4)]\n",
        "LISTA_2D = [(random.randrange(1,10000),random.randrange(1,10000)) for x in range(4)]\n",
        "LISTA_3D = [(random.randrange(1,10000),random.randrange(1,10000),random.randrange(1,10000)) for x in range(4)]\n",
        "\n",
        "\n",
        "def dist_euclidea(a,b):\n",
        "  sum = 0\n",
        "  for i in range(len(a)):\n",
        "    sum = sum + math.pow(a[i]-b[i],2)\n",
        "  return math.sqrt(sum)\n",
        "\n",
        "def ptos_cercanos_fuerza_bruta(lista):\n",
        "  minimo = math.inf\n",
        "  min_i = 0\n",
        "  min_j = 0\n",
        "  for i in range(len(lista)):\n",
        "    for j in range(i+1,len(lista)):\n",
        "        distan = dist_euclidea(lista[i],lista[j])\n",
        "        if distan < minimo:\n",
        "          minimo = distan\n",
        "          min_i = i\n",
        "          min_j = j\n",
        "  return minimo, min_i, min_j\n",
        "\n",
        "minimo, min_i, min_j = ptos_cercanos_fuerza_bruta(LISTA_1D)\n",
        "print(f'Lista 1D: {LISTA_1D}')\n",
        "print(\"Para 1D, los dos puntos más cercanos son:\")\n",
        "print((LISTA_1D[min_i],LISTA_1D[min_j]))\n",
        "print(f'Distancia entre ellos: {minimo}')\n",
        "print()\n",
        "\n",
        "minimo, min_i, min_j = ptos_cercanos_fuerza_bruta(LISTA_2D)\n",
        "print(f'Lista 2D: {LISTA_2D}')\n",
        "print(\"Para 2D, los dos puntos más cercanos son:\")\n",
        "print((LISTA_2D[min_i],LISTA_2D[min_j]))\n",
        "print(f'Distancia entre ellos: {minimo}')\n",
        "print()\n",
        "\n",
        "minimo, min_i, min_j = ptos_cercanos_fuerza_bruta(LISTA_3D)\n",
        "print(f'Lista 3D: {LISTA_3D}')\n",
        "print(\"Para 3D, los dos puntos más cercanos son:\")\n",
        "print((LISTA_3D[min_i],LISTA_3D[min_j]))\n",
        "print(f'Distancia entre ellos: {minimo}')\n"
      ],
      "metadata": {
        "colab": {
          "base_uri": "https://localhost:8080/"
        },
        "id": "6cmBF3KPWwXz",
        "outputId": "8c4405ab-804e-47e8-86a5-dc7a550a8d26"
      },
      "execution_count": null,
      "outputs": [
        {
          "output_type": "stream",
          "name": "stdout",
          "text": [
            "Lista 1D: [[6673], [1880], [2112], [2571]]\n",
            "Para 1D, los dos puntos más cercanos son:\n",
            "([1880], [2112])\n",
            "Distancia entre ellos: 232.0\n",
            "\n",
            "Lista 2D: [(7646, 3381), (6394, 447), (5886, 4116), (7093, 2347)]\n",
            "Para 2D, los dos puntos más cercanos son:\n",
            "((7646, 3381), (7093, 2347))\n",
            "Distancia entre ellos: 1172.58901581074\n",
            "\n",
            "Lista 3D: [(1325, 3846, 6664), (2483, 1669, 1958), (3504, 9607, 5434), (6998, 6710, 7791)]\n",
            "Para 3D, los dos puntos más cercanos son:\n",
            "((3504, 9607, 5434), (6998, 6710, 7791))\n",
            "Distancia entre ellos: 5114.302885046994\n"
          ]
        }
      ]
    },
    {
      "cell_type": "markdown",
      "source": [
        "## Puntos más cercanos con divide y vencerás\n",
        "\n",
        "En un conjunto de puntos de 1 a 3 dimensiones, encontrar los dos más cercanos.\n",
        "\n",
        "De nuevo, lo he realizado para n dimensiones generalizando el código encontrado en [https://www.geeksforgeeks.org/closest-pair-of-points-using-divide-and-conquer-algorithm/]. Se basa en ir dividiendo el conjunto en 2 mitades y luego repasar los puntos intermedios.\n",
        "\n",
        "Su complejidad es $T(n)=2T(n/2)+n$, debido a su recursividad dividiendo la lista en dos y luego recorriéndola una última vez. Queda por tanto $O(nlog(n))$."
      ],
      "metadata": {
        "id": "_cryYvzD0Ri6"
      }
    },
    {
      "cell_type": "code",
      "source": [
        "def dist_euclidea(a,b):\n",
        "  sum = 0\n",
        "  for i in range(len(a)):\n",
        "    sum = sum + math.pow(a[i]-b[i],2)\n",
        "  return math.sqrt(sum)\n",
        "\n",
        "def d_min_fuerza_bruta(lista,d_min):\n",
        "  minDistancia = d_min\n",
        "  pareja = 'NaN'\n",
        "  for i in range(len(lista)):\n",
        "    v_i = lista[i]\n",
        "    for j in range(i+1,len(lista)):\n",
        "      distancia = dist_euclidea(v_i,lista[j])\n",
        "      if distancia < minDistancia:\n",
        "        pareja = (lista[i], lista[j])\n",
        "        minDistancia = distancia\n",
        "  return pareja, minDistancia\n",
        "\n",
        "## Como entrada, una lista de puntos ordenada por la coordenada x\n",
        "def conjunto_puntos_DV(lista):\n",
        "  if(len(lista)<=3):\n",
        "    return d_min_fuerza_bruta(lista, math.inf)\n",
        "  else:  \n",
        "    pto_medio = len(lista)//2\n",
        "    # Mitad izquiera\n",
        "    pareja_i, minDistancia_i = conjunto_puntos_DV(lista[:pto_medio])\n",
        "    # Mitad derecha\n",
        "    pareja_d, minDistancia_d = conjunto_puntos_DV(lista[pto_medio:])\n",
        "    \n",
        "    if minDistancia_i < minDistancia_d:\n",
        "      pareja_min = pareja_i\n",
        "      d_min = minDistancia_i\n",
        "    else:\n",
        "      pareja_min = pareja_d\n",
        "      d_min = minDistancia_d\n",
        "      \n",
        "    strip = [lista[pto_medio]]\n",
        "\n",
        "    for i in range(len(lista)):\n",
        "      if dist_euclidea(lista[i],lista[pto_medio]) <= d_min:\n",
        "        if dist_euclidea(lista[i],lista[pto_medio])>0.0:\n",
        "          strip.append(lista[i])\n",
        "    \n",
        "    pareja, minDistancia = d_min_fuerza_bruta(strip,d_min)\n",
        "\n",
        "    if pareja == 'NaN':\n",
        "      return pareja_min, d_min\n",
        "    else:\n",
        "      return pareja, minDistancia"
      ],
      "metadata": {
        "id": "b4yHj7xKMw8w"
      },
      "execution_count": null,
      "outputs": []
    },
    {
      "cell_type": "code",
      "source": [
        "pareja_1, dist_1 = conjunto_puntos_DV(sorted(LISTA_1D))\n",
        "pareja_2, dist_2 = conjunto_puntos_DV(sorted(LISTA_2D))\n",
        "pareja_3, dist_3 = conjunto_puntos_DV(sorted(LISTA_3D))\n",
        "\n",
        "print(f'Lista 1D: {LISTA_1D}')\n",
        "print(\"Para 1D, los dos puntos más cercanos son:\")\n",
        "print(pareja_1)\n",
        "print(f'Distancia entre ellos: {dist_1}')\n",
        "print()\n",
        "\n",
        "print(f'Lista 2D: {LISTA_2D}')\n",
        "print(\"Para 2D, los dos puntos más cercanos son:\")\n",
        "print(pareja_2)\n",
        "print(f'Distancia entre ellos: {dist_2}')\n",
        "print()\n",
        "\n",
        "print(f'Lista 3D: {LISTA_3D}')\n",
        "print(\"Para 3D, los dos puntos más cercanos son:\")\n",
        "print(pareja_3)\n",
        "print(f'Distancia entre ellos: {dist_3}')\n",
        "print()"
      ],
      "metadata": {
        "colab": {
          "base_uri": "https://localhost:8080/"
        },
        "id": "XODL4UFiYZli",
        "outputId": "67da4e69-969b-4cda-aff4-0e0ff31fd21f"
      },
      "execution_count": null,
      "outputs": [
        {
          "output_type": "stream",
          "name": "stdout",
          "text": [
            "Lista 1D: [[6673], [1880], [2112], [2571]]\n",
            "Para 1D, los dos puntos más cercanos son:\n",
            "([1880], [2112])\n",
            "Distancia entre ellos: 232.0\n",
            "\n",
            "Lista 2D: [(7646, 3381), (6394, 447), (5886, 4116), (7093, 2347)]\n",
            "Para 2D, los dos puntos más cercanos son:\n",
            "((7093, 2347), (7646, 3381))\n",
            "Distancia entre ellos: 1172.58901581074\n",
            "\n",
            "Lista 3D: [(1325, 3846, 6664), (2483, 1669, 1958), (3504, 9607, 5434), (6998, 6710, 7791)]\n",
            "Para 3D, los dos puntos más cercanos son:\n",
            "((3504, 9607, 5434), (6998, 6710, 7791))\n",
            "Distancia entre ellos: 5114.302885046994\n",
            "\n"
          ]
        }
      ]
    }
  ]
}